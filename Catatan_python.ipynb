{
 "cells": [
  {
   "cell_type": "code",
   "execution_count": null,
   "id": "25234e66-db23-4e1d-9879-daeaec795e7b",
   "metadata": {},
   "outputs": [],
   "source": [
    "jupyter lab and python basic\n",
    "\n",
    "---------\n",
    "1. introduction\n",
    "\n",
    "- when human talk with computer to get feedback, it needed language. there are three level: \n",
    "- high level\n",
    "- low level\n",
    "- and hardware level\n",
    "( the higher it is , the easier it for human to understand)\n",
    "\n",
    "whats is ?\n",
    "- phyton is high level language\n",
    "so it easy to human can talk with computer\n",
    "\n",
    "there are 3 componens in python\n",
    "1. interpreted (python can interpreted the command from human)\n",
    "2. high level (easy to understand)\n",
    "3. general purpouse (can use in anything purpouse)\n",
    "\n",
    "fun fact: python reach number 1 for popular language for data and analytics wirh 27 % share\n",
    "\n",
    "why python?\n",
    "there are 2 reason\n",
    "1. easy\n",
    "you can text comand with 1 line \n",
    "2. multifunction for general purpouse\n",
    "funfact : the real blackhole picture, it process from scientist with python languages\n",
    "\n",
    "------\n",
    "2. introduction jupyterlab\n",
    "\n",
    "- jupyter is software for coding with python\n",
    "\n",
    "- other software such as spyder, pycharm, visual code studio, and google colab\n",
    "\n",
    "why we use jupyter?\n",
    "\n",
    "- there are 3 benefit \n",
    "1. can open csv file\n",
    "2. can open more then 1 project at the same time\n",
    "3. drag and drop cell "
   ]
  },
  {
   "cell_type": "code",
   "execution_count": null,
   "id": "d8111543-17b4-4676-ab8f-76674b07e8b9",
   "metadata": {},
   "outputs": [],
   "source": [
    "------------"
   ]
  },
  {
   "cell_type": "code",
   "execution_count": 19,
   "id": "b36af7f6-4056-4bb6-8957-1b0f09bdd7b1",
   "metadata": {
    "tags": []
   },
   "outputs": [
    {
     "ename": "SyntaxError",
     "evalue": "invalid syntax (2534987556.py, line 1)",
     "output_type": "error",
     "traceback": [
      "\u001b[1;36m  Cell \u001b[1;32mIn[19], line 1\u001b[1;36m\u001b[0m\n\u001b[1;33m    ***Topic:variabel***\u001b[0m\n\u001b[1;37m    ^\u001b[0m\n\u001b[1;31mSyntaxError\u001b[0m\u001b[1;31m:\u001b[0m invalid syntax\n"
     ]
    }
   ],
   "source": [
    "Topic:variabel"
   ]
  },
  {
   "cell_type": "code",
   "execution_count": null,
   "id": "06b1389a-3d9e-4a67-9a04-d4787e2818aa",
   "metadata": {},
   "outputs": [],
   "source": [
    "Variable is an element and concist value also can be changed"
   ]
  },
  {
   "cell_type": "code",
   "execution_count": null,
   "id": "e3e501fe-efa2-4416-8946-b779dc15300f",
   "metadata": {},
   "outputs": [],
   "source": [
    "tinggi_badan = 173"
   ]
  },
  {
   "cell_type": "code",
   "execution_count": null,
   "id": "1245744c-d9f8-42da-b8e4-ac2dd8c265c2",
   "metadata": {},
   "outputs": [],
   "source": [
    "its mean : the variable 'name' consist value int 173 and can be changed"
   ]
  },
  {
   "cell_type": "code",
   "execution_count": null,
   "id": "e2c8a280-df9c-4b09-9172-1de6f2c8f3d6",
   "metadata": {},
   "outputs": [],
   "source": [
    "the rules are :\n",
    "    error if use space on the variable like (tinggi badan = 167) \n",
    "    error if start with number like 1nama = 'adam'\n",
    "    error if start with special character like nama!='adam'\n",
    "    variable name concist case sensitive like nama =/ Nama"
   ]
  },
  {
   "cell_type": "code",
   "execution_count": null,
   "id": "042aeee0-2ef9-4daf-9e4b-2d1ec029b201",
   "metadata": {},
   "outputs": [],
   "source": [
    "type of data\n",
    "---\n",
    "text is string like \"Bahasa Python\"\n",
    "-\n",
    "numeric 1 is int like 45 or 2000\n",
    "numeric 2 is float like 3.14 or 0.05\n",
    "-\n",
    "boolean is bool like True or False (logical comand)\n",
    "\n",
    "-type of data can save more then one value\n",
    "sequence 1 is list like [\"jawa\",\"sunda\",\"batak\"]\n",
    "sequence 2 is tuple like (\"jawa\",\"sunda\",\"batak\")\n",
    "sequence 3 is range like range(10)\n",
    "-\n",
    "mapping is dict like {\"name\":\"Ammar\":\"age\":24}\n",
    "-\n",
    "set 1 is set like {\"budi\",\"hasan\",\"rudi\"}\n",
    "set 2 is frozenset like frozenset ({\"budi\",\"hasan\",\"rudi\"})"
   ]
  },
  {
   "cell_type": "code",
   "execution_count": null,
   "id": "ba07cb97-5e3a-46e9-83fb-e86ef6694f30",
   "metadata": {},
   "outputs": [],
   "source": [
    "example coding for type data text, numeric, and boolean"
   ]
  },
  {
   "cell_type": "code",
   "execution_count": null,
   "id": "09bba224-ec70-403e-84e4-fff4a2b0f6b2",
   "metadata": {},
   "outputs": [],
   "source": [
    "-- case 1 :please input value \n",
    "name : adam \n",
    "umur : 24\n",
    "and print it"
   ]
  },
  {
   "cell_type": "code",
   "execution_count": 15,
   "id": "2212a2ba-22b7-47fa-ae6d-89f12cfa68c6",
   "metadata": {
    "tags": []
   },
   "outputs": [],
   "source": [
    "nama = 'adam' # string data\n",
    "umur = 24 # integer data"
   ]
  },
  {
   "cell_type": "code",
   "execution_count": 16,
   "id": "85e70c2c-e57a-4352-ac84-4a94244880c9",
   "metadata": {
    "tags": []
   },
   "outputs": [
    {
     "name": "stdout",
     "output_type": "stream",
     "text": [
      "adam\n",
      "24\n"
     ]
    }
   ],
   "source": [
    "print (nama)\n",
    "print (umur)"
   ]
  },
  {
   "cell_type": "code",
   "execution_count": null,
   "id": "0960cf54-0864-43f9-a08d-9c4efb4be5f0",
   "metadata": {},
   "outputs": [],
   "source": [
    "-- case 2 :please check the type of data from name and umur.\n",
    "we can use with comand type "
   ]
  },
  {
   "cell_type": "code",
   "execution_count": 17,
   "id": "cde4bf49-c7ca-41fb-b8d9-f0ad9bf7fc0c",
   "metadata": {
    "tags": []
   },
   "outputs": [
    {
     "data": {
      "text/plain": [
       "int"
      ]
     },
     "execution_count": 17,
     "metadata": {},
     "output_type": "execute_result"
    }
   ],
   "source": [
    "type (nama)\n",
    "type (umur)"
   ]
  },
  {
   "cell_type": "code",
   "execution_count": null,
   "id": "32cbd829-dd0b-4be2-8510-d9afccea20da",
   "metadata": {},
   "outputs": [],
   "source": [
    "-- case 3 :please add value pelanggan baru as true and type of data"
   ]
  },
  {
   "cell_type": "code",
   "execution_count": 18,
   "id": "4140ab0d-6abd-4762-aa36-4c0bd71d1c93",
   "metadata": {
    "tags": []
   },
   "outputs": [
    {
     "data": {
      "text/plain": [
       "bool"
      ]
     },
     "execution_count": 18,
     "metadata": {},
     "output_type": "execute_result"
    }
   ],
   "source": [
    "pelanggan_baru = True\n",
    "type (pelanggan_baru)"
   ]
  },
  {
   "cell_type": "code",
   "execution_count": null,
   "id": "1b3c46d7-f48f-49b2-9a9d-dfb21796c5d9",
   "metadata": {},
   "outputs": [],
   "source": [
    "-----------------"
   ]
  },
  {
   "cell_type": "code",
   "execution_count": null,
   "id": "303f6ebf-cb95-4e30-b776-d30ba34ad374",
   "metadata": {},
   "outputs": [],
   "source": []
  }
 ],
 "metadata": {
  "kernelspec": {
   "display_name": "Python 3 (ipykernel)",
   "language": "python",
   "name": "python3"
  },
  "language_info": {
   "codemirror_mode": {
    "name": "ipython",
    "version": 3
   },
   "file_extension": ".py",
   "mimetype": "text/x-python",
   "name": "python",
   "nbconvert_exporter": "python",
   "pygments_lexer": "ipython3",
   "version": "3.11.5"
  }
 },
 "nbformat": 4,
 "nbformat_minor": 5
}
